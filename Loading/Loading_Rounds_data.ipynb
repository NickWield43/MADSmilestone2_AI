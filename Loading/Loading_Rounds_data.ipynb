{
  "cells": [
    {
      "cell_type": "markdown",
      "metadata": {
        "colab_type": "text",
        "id": "view-in-github"
      },
      "source": [
        "<a href=\"https://colab.research.google.com/github/NickWield43/MADSmilestone2/blob/main/Loading/Loading_Rounds_data.ipynb\" target=\"_parent\"><img src=\"https://colab.research.google.com/assets/colab-badge.svg\" alt=\"Open In Colab\"/></a>"
      ]
    },
    {
      "cell_type": "markdown",
      "metadata": {
        "id": "jJv-oziaqOJN"
      },
      "source": [
        "This project is inspired by the AI Crowd Challenge: https://www.aicrowd.com/challenges/addi-alzheimers-detection-challenge\n",
        "\n",
        "Data from NHATs: https://nhats.org/researcher/data-access\n",
        "\n",
        "\n",
        "Meta file crosswalk: https://www.nhats.org/sites/default/files/2021-07/NHATS_R10_Final_Crosswalk_between_Instruments_and_Codebook.pdf\n",
        "\n",
        "User Guide: https://www.nhats.org/sites/default/files/2021-07/NHATS_User_Guide_R10_Final_Release.pdf"
      ]
    },
    {
      "cell_type": "code",
      "execution_count": null,
      "metadata": {
        "colab": {
          "base_uri": "https://localhost:8080/"
        },
        "id": "yZvpOMW9m2Uj",
        "outputId": "e6ba76f8-e82d-4be1-8241-84ca17a9d83b"
      },
      "outputs": [
        {
          "name": "stdout",
          "output_type": "stream",
          "text": [
            "fatal: destination path 'MADSmilestone2' already exists and is not an empty directory.\n",
            "/content/MADSmilestone2\n",
            "clean_rounds.py\t\t    Labeling\t\t       __pycache__\n",
            "Exploration_Cleaning.ipynb  load_data.py\t       README.md\n",
            "ian_testingground.ipynb     Loading_Rounds_data.ipynb  round_data.csv\n"
          ]
        }
      ],
      "source": [
        "# Clone the entire repo.\n",
        "!git clone -l -s https://github.com/NickWield43/MADSmilestone2.git\n",
        "\n",
        "# Change directory into cloned repo\n",
        "%cd MADSmilestone2\n",
        "\n",
        "# List repo contents\n",
        "!ls"
<<<<<<< HEAD
=======
      ],
      "execution_count": 11,
      "outputs": [
        {
          "output_type": "stream",
          "name": "stdout",
          "text": [
            "Cloning into 'MADSmilestone2'...\n",
            "warning: --local is ignored\n",
            "remote: Enumerating objects: 897, done.\u001b[K\n",
            "remote: Counting objects: 100% (158/158), done.\u001b[K\n",
            "remote: Compressing objects: 100% (70/70), done.\u001b[K\n",
            "remote: Total 897 (delta 123), reused 99 (delta 88), pack-reused 739 (from 1)\u001b[K\n",
            "Receiving objects: 100% (897/897), 11.57 MiB | 15.49 MiB/s, done.\n",
            "Resolving deltas: 100% (486/486), done.\n",
            "/content/MADSmilestone2\n",
            "Analysis.ipynb\t\t\tmultimodel1_updated.ipynb\n",
            "BECK_S_BYRNE_I_Final_695.pdf\tmultimodel2.ipynb\n",
            "CNN2_scores.ipynb\t\tpresentation_CNN2_scores.ipynb\n",
            "cnn2_scores_updated.ipynb\tpresentation_Supervised_CNN.ipynb\n",
            "Data\t\t\t\tPresentation_Transfer_Learning_Kmeans.ipynb\n",
            "dataloader_tests.ipynb\t\tproj_models.py\n",
            "dataloader_tests_updated.ipynb\tREADME.md\n",
            "ImagePlayground\t\t\tscores_cnn_resnet.ipynb\n",
            "Labeling\t\t\tscores_cnn_resnet_updated.ipynb\n",
            "load_data.py\t\t\tSupervised_CNN.ipynb\n",
            "Loading\t\t\t\tTransfer_Learning_Kmeans.ipynb\n",
            "Model_Datasets.ipynb\t\tutils.py\n",
            "multimodel1.ipynb\n"
          ]
        }
>>>>>>> 1f61702c13561559d726bbcbc3575c0f07046553
      ]
    },
    {
      "cell_type": "code",
<<<<<<< HEAD
      "execution_count": null,
=======
      "source": [
        "rm -rf *"
      ],
      "metadata": {
        "id": "dd8n6K10DZix"
      },
      "execution_count": 10,
      "outputs": []
    },
    {
      "cell_type": "code",
>>>>>>> 1f61702c13561559d726bbcbc3575c0f07046553
      "metadata": {
        "id": "FBv7Le5m6dsB"
      },
      "outputs": [],
      "source": [
        "import pandas as pd\n",
        "import numpy as np\n",
<<<<<<< HEAD
        "import load_data as loading\n"
      ]
    },
    {
      "cell_type": "code",
      "execution_count": null,
      "metadata": {},
      "outputs": [],
      "source": [
        "from google.colab import drive\n",
        "drive.mount('/content/drive')"
=======
        "import Loading.load_data as loading\n"
      ],
      "execution_count": 14,
      "outputs": []
    },
    {
      "cell_type": "code",
      "source": [
        "from google.colab import drive\n",
        "drive.mount('/content/drive')\n"
      ],
      "metadata": {
        "id": "HifY0qrGXU4p",
        "outputId": "2f070e03-9473-427b-ab32-cdb37364df5e",
        "colab": {
          "base_uri": "https://localhost:8080/"
        }
      },
      "execution_count": 15,
      "outputs": [
        {
          "output_type": "stream",
          "name": "stdout",
          "text": [
            "Mounted at /content/drive\n"
          ]
        }
>>>>>>> 1f61702c13561559d726bbcbc3575c0f07046553
      ]
    },
    {
      "cell_type": "code",
<<<<<<< HEAD
      "execution_count": null,
=======
>>>>>>> 1f61702c13561559d726bbcbc3575c0f07046553
      "metadata": {
        "id": "7zhRZUv98qB1"
      },
      "outputs": [],
      "source": [
        "rounds_df = loading.load_data()\n",
        "rounds_df.to_csv(\"Data/round_data.csv\", index = False)\n",
        "\n",
        "hats_rounds_df = loading.hats_load_data()\n",
        "hats_rounds_df.to_csv(\"Data/hats_round_data.csv\", index = False)"
<<<<<<< HEAD
      ]
=======
      ],
      "execution_count": 16,
      "outputs": []
>>>>>>> 1f61702c13561559d726bbcbc3575c0f07046553
    }
  ],
  "metadata": {
    "colab": {
      "include_colab_link": true,
      "machine_shape": "hm",
      "name": "Loading_Rounds_data.ipynb",
      "provenance": []
    },
    "kernelspec": {
      "display_name": "Python 3",
      "name": "python3"
    },
    "language_info": {
      "name": "python"
    },
    "pycharm": {
      "stem_cell": {
        "cell_type": "raw",
        "metadata": {
          "collapsed": false
        },
        "source": []
      }
    }
  },
  "nbformat": 4,
  "nbformat_minor": 0
}
