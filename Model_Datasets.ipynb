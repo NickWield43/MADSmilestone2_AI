{
  "cells": [
    {
      "cell_type": "markdown",
      "metadata": {
        "id": "view-in-github",
        "colab_type": "text"
      },
      "source": [
        "<a href=\"https://colab.research.google.com/github/NickWield43/MADSmilestone2_AI/blob/main/Model_Datasets.ipynb\" target=\"_parent\"><img src=\"https://colab.research.google.com/assets/colab-badge.svg\" alt=\"Open In Colab\"/></a>"
      ]
    },
    {
      "cell_type": "markdown",
      "metadata": {
        "id": "3Xw6XDnTLRfG"
      },
      "source": [
        "# Create the datasets for model training, validation and testing\n",
        "\n",
        "In this notebook we will load in the the dataframes created from Cleaning_Labeling notebook to help create our balanced datasets for Supervised Learning and Unsupervised Learning.\n",
        "\n",
        "### Steps:\n",
        "- Load in csv data\n",
        "- Create dictionaries to map round, ID and labels to the image data stored in the S3 bucket clockimages.\n",
        "- Split the data in Train, Validation and Test datasets\n",
        "- Balance the final training datasets\n",
        "\n",
        "### Outputs:\n",
        "  #### Dictionaries:\n",
        "  ***Dictionaries that ultimately <u>WERE NOT</u> used in creating the final datasets for model input:***\n",
        "\n",
        "- A dictionary utilizing the AI Crowd dementia labeling system that consists of the Rounds, SPIDs, and dementia labels 0 - 2.\n",
        "  - ***roundIdLabelDict.txt*** - Ultimately, this dictionary was not used in creating the final datasets for model input.\n",
        "- A dictionary utilizing the hybrid AI Crowd and NHATs combined labeling system that consists of Rounds, SPIDs, and labels 0-2.\n",
        "  - ***customLabelDict.txt*** - Ultimately, this dictionary was not used in creating the final datasets for model input.\n",
        "- A dictionary using data from the cleaned_nhat_data.csv using data from columns 'round', 'spid' and 'cg1dclkdraw.' The column 'cg1dclkdraw' are the labels 0 - 5.\n",
        "  - ***clockScoreDict.txt*** - Ultimately, this dictionary was not used in creating the final datasets for model input.\n",
        "\n",
        "\n",
        " ***Dictionaries that <u>WERE</u> used in creating the final datasets for model input:***\n",
        "- A group of dictionaries randomly split with a ratio of 90-5-5%. Data comes from the hybrid AI Crowd and NHATs combined labeling system that consists of Rounds, SPIDs, and Labels 0-2. After balancing the training set, the ratio of each dataset is ~78-11-11%:\n",
        "  - **train_dict_bal.txt** - Balanced dataset dictionary containing 4000 samples from each class (0-2) randomly sampled across all rounds (1 - 10), totaling 24,000 data points.\n",
        "  - **val_dict_nobal.txt** - Unbalanced dataset dictionary containing 2569 randomly sampled data points.\n",
        "  - **test_dict_nobal.txt** - Unbalanced dataset dictionary containing 2569 randomly sampled data points.\n",
        "\n",
        "- A group of dictionaries randomly split with a ratio of 90-5-5%. Data comes from the cleaned_nhat_data.csv and utilizes the columns 'round', 'spid' and 'cg1dclkdraw.' The column 'cg1dclkdraw' are the labels 0 - 5. After balancing the training set, the ratio of each dataset is ~78-11-11%:\n",
        "  - **tr_scor_dict_bal.txt** - Balanced dataset dictionary containing 4000 samples from each class (0-2) randomly sampled across all rounds (1 - 10), totaling 24,000 data points.\n",
        "  - **val_scor_dict_nobal.txt** - Unbalanced dataset dictionary containing 2569 randomly sampled data points.\n",
        "  - **tst_scor_dict_nobal.txt** - Unbalanced dataset dictionary containing 2569 randomly sampled data points.\n",
        "\n",
        "### Special Libraries:\n",
        "- **Labeling.splitting as split_ to call split_data()**, which is a custom splitting function that utilizes Sklearn's train_test_split. It takes in the dataframe, first value split on the test set, second value split on the validation set, and the column label name as a string.\n",
        "- **Labeling.label_data as ld to call get_ids()**, which is a custom function that creates a dictionary that takes in a dataframe and the column target labels. Outputs a dictionary where the keys are the rounds and the value is a list of tuples. The tuples contain the unique SPIDs for that round and label value."
      ]
    },
    {
      "cell_type": "markdown",
      "metadata": {
        "id": "uAXjAaxMKuG5"
      },
      "source": [
        "#NO update needed"
      ]
    },
    {
      "cell_type": "code",
      "execution_count": 1,
      "metadata": {
        "colab": {
          "base_uri": "https://localhost:8080/"
        },
        "id": "R43G-mR46t_x",
        "outputId": "133a4e8c-9e8d-40e4-9d3f-159d017a4685"
      },
      "outputs": [
        {
          "output_type": "stream",
          "name": "stdout",
          "text": [
            "Mounted at /content/gdrive\n"
          ]
        }
      ],
      "source": [
        "# Mount Google Drive\n",
        "from google.colab import drive\n",
        "drive.mount('/content/gdrive')"
      ]
    },
    {
      "cell_type": "code",
      "execution_count": 2,
      "metadata": {
        "colab": {
          "base_uri": "https://localhost:8080/"
        },
        "id": "a7uLd_Eu6v_9",
        "outputId": "66d811c3-d20e-45ba-fa6a-ba5b567b67f1"
      },
      "outputs": [
        {
          "output_type": "stream",
          "name": "stdout",
          "text": [
            "Cloning into 'MADSmilestone2_AI'...\n",
            "warning: --local is ignored\n",
            "remote: Enumerating objects: 142, done.\u001b[K\n",
            "remote: Counting objects: 100% (142/142), done.\u001b[K\n",
            "remote: Compressing objects: 100% (100/100), done.\u001b[K\n",
            "remote: Total 142 (delta 63), reused 114 (delta 39), pack-reused 0 (from 0)\u001b[K\n",
            "Receiving objects: 100% (142/142), 5.49 MiB | 9.69 MiB/s, done.\n",
            "Resolving deltas: 100% (63/63), done.\n",
            "/content/MADSmilestone2_AI\n",
            "Analysis.ipynb\t\t      multimodel2.ipynb\n",
            "BECK_S_BYRNE_I_Final_695.pdf  presentation_CNN2_scores.ipynb\n",
            "CNN2_scores.ipynb\t      presentation_Supervised_CNN.ipynb\n",
            "Data\t\t\t      Presentation_Transfer_Learning_Kmeans.ipynb\n",
            "dataloader_tests.ipynb\t      proj_models.py\n",
            "ImagePlayground\t\t      README.md\n",
            "Labeling\t\t      scores_cnn_resnet.ipynb\n",
            "load_data.py\t\t      scores_cnn_resnet_updated.ipynb\n",
            "Loading\t\t\t      Supervised_CNN.ipynb\n",
            "Model_Datasets.ipynb\t      Transfer_Learning_Kmeans.ipynb\n",
            "multimodel1.ipynb\t      utils.py\n",
            "multimodel1_updated.ipynb\n"
          ]
        }
      ],
      "source": [
        "# Clone the entire repo.\n",
        "!git clone -l -s https://github.com/NickWield43/MADSmilestone2_AI.git\n",
        "\n",
        "# Change directory into cloned repo\n",
        "%cd MADSmilestone2_AI\n",
        "# List repo contents\n",
        "!ls"
      ]
    },
    {
      "cell_type": "code",
      "execution_count": 3,
      "metadata": {
        "id": "8p55GAOiT5Rh"
      },
      "outputs": [],
      "source": [
        "from sklearn.model_selection import train_test_split\n",
        "import Labeling.splitting as split_\n",
        "import Labeling.label_data as ld\n",
        "import matplotlib.pyplot as plt\n",
        "import pandas as pd"
      ]
    },
    {
      "cell_type": "code",
      "execution_count": 4,
      "metadata": {
        "id": "iW3fpeTlKuG7"
      },
      "outputs": [],
      "source": [
        "import warnings\n",
        "warnings.filterwarnings(\"ignore\")"
      ]
    },
    {
      "cell_type": "code",
      "execution_count": 5,
      "metadata": {
        "id": "K1j_KaMQLMyP"
      },
      "outputs": [],
      "source": [
        "# Load the dataframes to create the dictionaries\n",
        "ai_label_df = pd.read_csv('Data/labeld_ai_df.csv')\n",
        "hybrid_label_df = pd.read_csv('Data/hybrid_label_df.csv')\n",
        "nhat_label_df = pd.read_csv('Data/cleaned_nhat_data.csv')"
      ]
    },
    {
      "cell_type": "markdown",
      "metadata": {
        "id": "SN0CCk7AUCdk"
      },
      "source": [
        "## Get Individual participant IDs and labels per round\n",
        "- useful for pulling in exact images per round\n",
        "- create text file to store dictionary\n",
        "\n",
        "- create one dictionary file for AI Crowd method of labeling\n",
        "- create final custom label dictionary (using NHAT and AI crowd labeling)\n",
        "- create one dictionary file using clock drawing score as labels"
      ]
    },
    {
      "cell_type": "code",
      "execution_count": 6,
      "metadata": {
        "colab": {
          "base_uri": "https://localhost:8080/"
        },
        "id": "JoMq7uBu7qB0",
        "outputId": "b1cb224a-520c-4a05-d708-65ee2dafb5ff"
      },
      "outputs": [
        {
          "output_type": "stream",
          "name": "stdout",
          "text": [
            "round\n",
            "5     7067\n",
            "1     6913\n",
            "6     5993\n",
            "2     5501\n",
            "7     5255\n",
            "8     4657\n",
            "3     4455\n",
            "9     4183\n",
            "10    3797\n",
            "4     3671\n",
            "Name: count, dtype: int64 51492\n",
            "round\n",
            "5     7067\n",
            "1     6918\n",
            "6     5997\n",
            "2     5504\n",
            "7     5256\n",
            "8     4658\n",
            "3     4459\n",
            "9     4186\n",
            "4     3671\n",
            "10    3645\n",
            "Name: count, dtype: int64 51361\n",
            "round\n",
            "5     7067\n",
            "1     6918\n",
            "6     5997\n",
            "2     5504\n",
            "7     5256\n",
            "8     4658\n",
            "3     4459\n",
            "9     4186\n",
            "4     3671\n",
            "10    3645\n",
            "Name: count, dtype: int64 51361\n",
            "cg1dclkdraw\n",
            "4.0    19046\n",
            "5.0    12901\n",
            "3.0    11210\n",
            "2.0     5905\n",
            "1.0     1812\n",
            "0.0      487\n",
            "Name: count, dtype: int64\n"
          ]
        }
      ],
      "source": [
        "print(ai_label_df['round'].value_counts(), len(ai_label_df)) # AI CROWD\n",
        "print(nhat_label_df['round'].value_counts(), len(nhat_label_df)) # NHATS\n",
        "print(hybrid_label_df['round'].value_counts(), len(hybrid_label_df)) # COMBO AI and NHATS\n",
        "print(nhat_label_df['cg1dclkdraw'].value_counts())"
      ]
    },
    {
      "cell_type": "code",
      "execution_count": 7,
      "metadata": {
        "id": "BIVGHFnI7-ZJ"
      },
      "outputs": [],
      "source": [
        "# get round, id, label for AI crowd method\n",
        "ids_ai = ld.get_ids(ai_label_df, 'label')\n",
        "\n",
        "# Writing dictionary to text file for AI Crowd method of labeling\n",
        "try:\n",
        "    id_file = open('Data/Dictionaries/dementia_label_dicts/roundIdLabelDict.txt', 'wt')\n",
        "    id_file.write(str(ids_ai))\n",
        "    id_file.close()\n",
        "\n",
        "except:\n",
        "    print(\"Unable to write to file\")"
      ]
    },
    {
      "cell_type": "code",
      "execution_count": 8,
      "metadata": {
        "id": "uEuDn9E-8HBa"
      },
      "outputs": [],
      "source": [
        "# get round, id, label for nhat, AI methods and custom method combined\n",
        "id_custom = ld.get_ids(hybrid_label_df, 'label')\n",
        "\n",
        "# Writing dictionary to text file for custom labeling\n",
        "try:\n",
        "    id_file = open('Data/Dictionaries/dementia_label_dicts/customLabelDict.txt', 'wt')\n",
        "    id_file.write(str(id_custom))\n",
        "    id_file.close()\n",
        "\n",
        "except:\n",
        "    print(\"Unable to write to file\")"
      ]
    },
    {
      "cell_type": "code",
      "execution_count": 9,
      "metadata": {
        "id": "cDkiurUz8J13"
      },
      "outputs": [],
      "source": [
        "# get round, id, clockdrawing (cg1dclkdraw) score (as labels)\n",
        "clock_score = ld.get_ids(nhat_label_df, 'cg1dclkdraw')\n",
        "\n",
        "# Writing dictionary to text file for custom four combo labeling\n",
        "try:\n",
        "    id_file = open('Data/Dictionaries/score_dicts/clockScoreDict.txt', 'wt')\n",
        "    id_file.write(str(clock_score))\n",
        "    id_file.close()\n",
        "\n",
        "except:\n",
        "    print(\"Unable to write to file\")"
      ]
    },
    {
      "cell_type": "markdown",
      "metadata": {
        "id": "07PgTLom9guu"
      },
      "source": [
        "# Split the hybrid labeled data and check balance\n",
        "- Create dictionaries of the split data for model output using dementia labels and clock score labels.\n",
        "- Splitting on 90, 5, 5"
      ]
    },
    {
      "cell_type": "code",
      "execution_count": 10,
      "metadata": {
        "colab": {
          "base_uri": "https://localhost:8080/",
          "height": 1000
        },
        "id": "JdM1OasO9ea_",
        "outputId": "46d86488-469e-4c2e-e613-be2538b9470e"
      },
      "outputs": [
        {
          "output_type": "stream",
          "name": "stdout",
          "text": [
            "length of training set:  46224\n",
            "length of validation set:  2569\n",
            "length of test set:  2568\n",
            "Total length:  51361\n",
            "Train data: \n",
            "\n"
          ]
        },
        {
          "output_type": "display_data",
          "data": {
            "text/plain": [
              "<Figure size 640x480 with 1 Axes>"
            ],
            "image/png": "[encoded data removed]"
          },
          "metadata": {}
        },
        {
          "output_type": "stream",
          "name": "stdout",
          "text": [
            "Val data: \n",
            "\n"
          ]
        },
        {
          "output_type": "display_data",
          "data": {
            "text/plain": [
              "<Figure size 640x480 with 1 Axes>"
            ],
            "image/png": "[encoded data removed]"
          },
          "metadata": {}
        },
        {
          "output_type": "stream",
          "name": "stdout",
          "text": [
            "Test data: \n",
            "\n"
          ]
        },
        {
          "output_type": "display_data",
          "data": {
            "text/plain": [
              "<Figure size 640x480 with 1 Axes>"
            ],
            "image/png": "[encoded data removed]"
          },
          "metadata": {}
        }
      ],
      "source": [
        "# Splitting 90% train, 10% testing (first float value)\n",
        "# Splitting testing in half for a final 90-5-5 train test validation (second float val)\n",
        "train, val, test = split_.split_data(hybrid_label_df, 0.1, .5, 'label')"
      ]
    },
    {
      "cell_type": "markdown",
      "metadata": {
        "id": "196yEJRy-oR0"
      },
      "source": [
        "## Sampling and Balancing the Training Set Only\n",
        "- Undersample the majority classes (0 and 2)\n",
        "- Oversample the minority class (1)\n",
        "- End up with a data split of 24,000 training examples, ~2500 Test and ~2500 Validation examples\n",
        "- Create dictionaries for each Training, Test, and Validation data sets"
      ]
    },
    {
      "cell_type": "code",
      "execution_count": 12,
      "metadata": {
        "colab": {
          "base_uri": "https://localhost:8080/",
          "height": 504
        },
        "id": "EPwQZaHJ-naK",
        "outputId": "268ccbae-3272-414c-84ce-0359412f4c45"
      },
      "outputs": [
        {
          "output_type": "execute_result",
          "data": {
            "text/plain": [
              "(array([8000.,    0.,    0.,    0.,    0., 8000.,    0.,    0.,    0.,\n",
              "        8000.]),\n",
              " array([0. , 0.2, 0.4, 0.6, 0.8, 1. , 1.2, 1.4, 1.6, 1.8, 2. ]),\n",
              " <BarContainer object of 10 artists>)"
            ]
          },
          "metadata": {},
          "execution_count": 12
        },
        {
          "output_type": "display_data",
          "data": {
            "text/plain": [
              "<Figure size 640x480 with 1 Axes>"
            ],
            "image/png": "[encoded data removed]"
          },
          "metadata": {}
        }
      ],
      "source": [
        "train_zero_samp = train[train['label'] == 0].sample(n = 8000, random_state = 42)\n",
        "train_one_samp = train[train['label'] == 1].sample(n = 8000, replace = True, random_state = 42)\n",
        "train_two_samp = train[train['label'] == 2].sample(n = 8000, random_state = 42)\n",
        "balanced_train = pd.concat([train_zero_samp, train_one_samp, train_two_samp])\n",
        "\n",
        "plt.hist(balanced_train.label)"
      ]
    },
    {
      "cell_type": "code",
      "execution_count": 13,
      "metadata": {
        "id": "JuOiCZC2-j1P"
      },
      "outputs": [],
      "source": [
        "# Create Training dictionary\n",
        "train_dict_bal = ld.get_ids(balanced_train, 'label')\n",
        "\n",
        "# Writing dictionary to text file for training\n",
        "try:\n",
        "    id_file = open('Data/Dictionaries/dementia_label_dicts/train_dict_bal.txt', 'wt')\n",
        "    id_file.write(str(train_dict_bal))\n",
        "    id_file.close()\n",
        "\n",
        "except:\n",
        "    print(\"Unable to write to file\")\n"
      ]
    },
    {
      "cell_type": "code",
      "execution_count": 14,
      "metadata": {
        "id": "z7Sysjj9_WHp"
      },
      "outputs": [],
      "source": [
        "# Create Validation dictionary\n",
        "val_dict_nobal = ld.get_ids(val, 'label')\n",
        "\n",
        "# Writing dictionary to text file for validation\n",
        "try:\n",
        "    id_file = open('Data/Dictionaries/dementia_label_dicts/val_dict_nobal.txt', 'wt')\n",
        "    id_file.write(str(val_dict_nobal))\n",
        "    id_file.close()\n",
        "\n",
        "except:\n",
        "    print(\"Unable to write to file\")"
      ]
    },
    {
      "cell_type": "code",
      "execution_count": 15,
      "metadata": {
        "id": "FkZb5fDq_Zbe"
      },
      "outputs": [],
      "source": [
        "# Create Test dictionary\n",
        "test_dict_nobal = ld.get_ids(test, 'label')\n",
        "\n",
        "# Writing dictionary to text file for testing\n",
        "try:\n",
        "    id_file = open('Data/Dictionaries/dementia_label_dicts/test_dict_nobal.txt', 'wt')\n",
        "    id_file.write(str(test_dict_nobal))\n",
        "    id_file.close()\n",
        "\n",
        "except:\n",
        "    print(\"Unable to write to file\")"
      ]
    },
    {
      "cell_type": "markdown",
      "metadata": {
        "id": "-WrEpM3u_eSQ"
      },
      "source": [
        "# Develop Score Dataframe and Dictionaries for Model Inputs\n",
        "- This is using the dataframe with clock scores as labels\n",
        "- Train test split with a 90-5-5 ratio\n",
        "- Balance training set to end up with close to 80-10-10 ratio split between train, test, validation\n",
        "- Upsample label class 0 and 1; downsample label classes 2-5\n",
        "- Create dictionaries of all train, val, test datasets"
      ]
    },
    {
      "cell_type": "code",
      "execution_count": 16,
      "metadata": {
        "colab": {
          "base_uri": "https://localhost:8080/",
          "height": 423
        },
        "id": "y3L_eRyQ_q8-",
        "outputId": "98ede717-194e-4e92-f9a1-63eddec65eb4"
      },
      "outputs": [
        {
          "output_type": "execute_result",
          "data": {
            "text/plain": [
              "           spid  cg1dclkdraw  round\n",
              "0      10000003          3.0      1\n",
              "1      10000004          3.0      1\n",
              "2      10000005          3.0      1\n",
              "3      10000006          4.0      1\n",
              "4      10000008          2.0      1\n",
              "...         ...          ...    ...\n",
              "51356  20007107          5.0     10\n",
              "51357  20007109          4.0     10\n",
              "51358  20007110          5.0     10\n",
              "51359  20007111          5.0     10\n",
              "51360  20007112          5.0     10\n",
              "\n",
              "[51361 rows x 3 columns]"
            ],
            "text/html": [
              "\n",
              "  <div id=\"df-ea89d8b5-9b7c-4c66-bd2f-134311037057\" class=\"colab-df-container\">\n",
              "    <div>\n",
              "<style scoped>\n",
              "    .dataframe tbody tr th:only-of-type {\n",
              "        vertical-align: middle;\n",
              "    }\n",
              "\n",
              "    .dataframe tbody tr th {\n",
              "        vertical-align: top;\n",
              "    }\n",
              "\n",
              "    .dataframe thead th {\n",
              "        text-align: right;\n",
              "    }\n",
              "</style>\n",
              "<table border=\"1\" class=\"dataframe\">\n",
              "  <thead>\n",
              "    <tr style=\"text-align: right;\">\n",
              "      <th></th>\n",
              "      <th>spid</th>\n",
              "      <th>cg1dclkdraw</th>\n",
              "      <th>round</th>\n",
              "    </tr>\n",
              "  </thead>\n",
              "  <tbody>\n",
              "    <tr>\n",
              "      <th>0</th>\n",
              "      <td>10000003</td>\n",
              "      <td>3.0</td>\n",
              "      <td>1</td>\n",
              "    </tr>\n",
              "    <tr>\n",
              "      <th>1</th>\n",
              "      <td>10000004</td>\n",
              "      <td>3.0</td>\n",
              "      <td>1</td>\n",
              "    </tr>\n",
              "    <tr>\n",
              "      <th>2</th>\n",
              "      <td>10000005</td>\n",
              "      <td>3.0</td>\n",
              "      <td>1</td>\n",
              "    </tr>\n",
              "    <tr>\n",
              "      <th>3</th>\n",
              "      <td>10000006</td>\n",
              "      <td>4.0</td>\n",
              "      <td>1</td>\n",
              "    </tr>\n",
              "    <tr>\n",
              "      <th>4</th>\n",
              "      <td>10000008</td>\n",
              "      <td>2.0</td>\n",
              "      <td>1</td>\n",
              "    </tr>\n",
              "    <tr>\n",
              "      <th>...</th>\n",
              "      <td>...</td>\n",
              "      <td>...</td>\n",
              "      <td>...</td>\n",
              "    </tr>\n",
              "    <tr>\n",
              "      <th>51356</th>\n",
              "      <td>20007107</td>\n",
              "      <td>5.0</td>\n",
              "      <td>10</td>\n",
              "    </tr>\n",
              "    <tr>\n",
              "      <th>51357</th>\n",
              "      <td>20007109</td>\n",
              "      <td>4.0</td>\n",
              "      <td>10</td>\n",
              "    </tr>\n",
              "    <tr>\n",
              "      <th>51358</th>\n",
              "      <td>20007110</td>\n",
              "      <td>5.0</td>\n",
              "      <td>10</td>\n",
              "    </tr>\n",
              "    <tr>\n",
              "      <th>51359</th>\n",
              "      <td>20007111</td>\n",
              "      <td>5.0</td>\n",
              "      <td>10</td>\n",
              "    </tr>\n",
              "    <tr>\n",
              "      <th>51360</th>\n",
              "      <td>20007112</td>\n",
              "      <td>5.0</td>\n",
              "      <td>10</td>\n",
              "    </tr>\n",
              "  </tbody>\n",
              "</table>\n",
              "<p>51361 rows × 3 columns</p>\n",
              "</div>\n",
              "    <div class=\"colab-df-buttons\">\n",
              "\n",
              "  <div class=\"colab-df-container\">\n",
              "    <button class=\"colab-df-convert\" onclick=\"convertToInteractive('df-ea89d8b5-9b7c-4c66-bd2f-134311037057')\"\n",
              "            title=\"Convert this dataframe to an interactive table.\"\n",
              "            style=\"display:none;\">\n",
              "\n",
              "  <svg xmlns=\"http://www.w3.org/2000/svg\" height=\"24px\" viewBox=\"0 -960 960 960\">\n",
              "    <path d=\"M120-120v-720h720v720H120Zm60-500h600v-160H180v160Zm220 220h160v-160H400v160Zm0 220h160v-160H400v160ZM180-400h160v-160H180v160Zm440 0h160v-160H620v160ZM180-180h160v-160H180v160Zm440 0h160v-160H620v160Z\"/>\n",
              "  </svg>\n",
              "    </button>\n",
              "\n",
              "  <style>\n",
              "    .colab-df-container {\n",
              "      display:flex;\n",
              "      gap: 12px;\n",
              "    }\n",
              "\n",
              "    .colab-df-convert {\n",
              "      background-color: #E8F0FE;\n",
              "      border: none;\n",
              "      border-radius: 50%;\n",
              "      cursor: pointer;\n",
              "      display: none;\n",
              "      fill: #1967D2;\n",
              "      height: 32px;\n",
              "      padding: 0 0 0 0;\n",
              "      width: 32px;\n",
              "    }\n",
              "\n",
              "    .colab-df-convert:hover {\n",
              "      background-color: #E2EBFA;\n",
              "      box-shadow: 0px 1px 2px rgba(60, 64, 67, 0.3), 0px 1px 3px 1px rgba(60, 64, 67, 0.15);\n",
              "      fill: #174EA6;\n",
              "    }\n",
              "\n",
              "    .colab-df-buttons div {\n",
              "      margin-bottom: 4px;\n",
              "    }\n",
              "\n",
              "    [theme=dark] .colab-df-convert {\n",
              "      background-color: #3B4455;\n",
              "      fill: #D2E3FC;\n",
              "    }\n",
              "\n",
              "    [theme=dark] .colab-df-convert:hover {\n",
              "      background-color: #434B5C;\n",
              "      box-shadow: 0px 1px 3px 1px rgba(0, 0, 0, 0.15);\n",
              "      filter: drop-shadow(0px 1px 2px rgba(0, 0, 0, 0.3));\n",
              "      fill: #FFFFFF;\n",
              "    }\n",
              "  </style>\n",
              "\n",
              "    <script>\n",
              "      const buttonEl =\n",
              "        document.querySelector('#df-ea89d8b5-9b7c-4c66-bd2f-134311037057 button.colab-df-convert');\n",
              "      buttonEl.style.display =\n",
              "        google.colab.kernel.accessAllowed ? 'block' : 'none';\n",
              "\n",
              "      async function convertToInteractive(key) {\n",
              "        const element = document.querySelector('#df-ea89d8b5-9b7c-4c66-bd2f-134311037057');\n",
              "        const dataTable =\n",
              "          await google.colab.kernel.invokeFunction('convertToInteractive',\n",
              "                                                    [key], {});\n",
              "        if (!dataTable) return;\n",
              "\n",
              "        const docLinkHtml = 'Like what you see? Visit the ' +\n",
              "          '<a target=\"_blank\" href=https://colab.research.google.com/notebooks/data_table.ipynb>data table notebook</a>'\n",
              "          + ' to learn more about interactive tables.';\n",
              "        element.innerHTML = '';\n",
              "        dataTable['output_type'] = 'display_data';\n",
              "        await google.colab.output.renderOutput(dataTable, element);\n",
              "        const docLink = document.createElement('div');\n",
              "        docLink.innerHTML = docLinkHtml;\n",
              "        element.appendChild(docLink);\n",
              "      }\n",
              "    </script>\n",
              "  </div>\n",
              "\n",
              "\n",
              "    <div id=\"df-d12b0ef8-a3ee-4634-ab5e-c0a33400af85\">\n",
              "      <button class=\"colab-df-quickchart\" onclick=\"quickchart('df-d12b0ef8-a3ee-4634-ab5e-c0a33400af85')\"\n",
              "                title=\"Suggest charts\"\n",
              "                style=\"display:none;\">\n",
              "\n",
              "<svg xmlns=\"http://www.w3.org/2000/svg\" height=\"24px\"viewBox=\"0 0 24 24\"\n",
              "     width=\"24px\">\n",
              "    <g>\n",
              "        <path d=\"M19 3H5c-1.1 0-2 .9-2 2v14c0 1.1.9 2 2 2h14c1.1 0 2-.9 2-2V5c0-1.1-.9-2-2-2zM9 17H7v-7h2v7zm4 0h-2V7h2v10zm4 0h-2v-4h2v4z\"/>\n",
              "    </g>\n",
              "</svg>\n",
              "      </button>\n",
              "\n",
              "<style>\n",
              "  .colab-df-quickchart {\n",
              "      --bg-color: #E8F0FE;\n",
              "      --fill-color: #1967D2;\n",
              "      --hover-bg-color: #E2EBFA;\n",
              "      --hover-fill-color: #174EA6;\n",
              "      --disabled-fill-color: #AAA;\n",
              "      --disabled-bg-color: #DDD;\n",
              "  }\n",
              "\n",
              "  [theme=dark] .colab-df-quickchart {\n",
              "      --bg-color: #3B4455;\n",
              "      --fill-color: #D2E3FC;\n",
              "      --hover-bg-color: #434B5C;\n",
              "      --hover-fill-color: #FFFFFF;\n",
              "      --disabled-bg-color: #3B4455;\n",
              "      --disabled-fill-color: #666;\n",
              "  }\n",
              "\n",
              "  .colab-df-quickchart {\n",
              "    background-color: var(--bg-color);\n",
              "    border: none;\n",
              "    border-radius: 50%;\n",
              "    cursor: pointer;\n",
              "    display: none;\n",
              "    fill: var(--fill-color);\n",
              "    height: 32px;\n",
              "    padding: 0;\n",
              "    width: 32px;\n",
              "  }\n",
              "\n",
              "  .colab-df-quickchart:hover {\n",
              "    background-color: var(--hover-bg-color);\n",
              "    box-shadow: 0 1px 2px rgba(60, 64, 67, 0.3), 0 1px 3px 1px rgba(60, 64, 67, 0.15);\n",
              "    fill: var(--button-hover-fill-color);\n",
              "  }\n",
              "\n",
              "  .colab-df-quickchart-complete:disabled,\n",
              "  .colab-df-quickchart-complete:disabled:hover {\n",
              "    background-color: var(--disabled-bg-color);\n",
              "    fill: var(--disabled-fill-color);\n",
              "    box-shadow: none;\n",
              "  }\n",
              "\n",
              "  .colab-df-spinner {\n",
              "    border: 2px solid var(--fill-color);\n",
              "    border-color: transparent;\n",
              "    border-bottom-color: var(--fill-color);\n",
              "    animation:\n",
              "      spin 1s steps(1) infinite;\n",
              "  }\n",
              "\n",
              "  @keyframes spin {\n",
              "    0% {\n",
              "      border-color: transparent;\n",
              "      border-bottom-color: var(--fill-color);\n",
              "      border-left-color: var(--fill-color);\n",
              "    }\n",
              "    20% {\n",
              "      border-color: transparent;\n",
              "      border-left-color: var(--fill-color);\n",
              "      border-top-color: var(--fill-color);\n",
              "    }\n",
              "    30% {\n",
              "      border-color: transparent;\n",
              "      border-left-color: var(--fill-color);\n",
              "      border-top-color: var(--fill-color);\n",
              "      border-right-color: var(--fill-color);\n",
              "    }\n",
              "    40% {\n",
              "      border-color: transparent;\n",
              "      border-right-color: var(--fill-color);\n",
              "      border-top-color: var(--fill-color);\n",
              "    }\n",
              "    60% {\n",
              "      border-color: transparent;\n",
              "      border-right-color: var(--fill-color);\n",
              "    }\n",
              "    80% {\n",
              "      border-color: transparent;\n",
              "      border-right-color: var(--fill-color);\n",
              "      border-bottom-color: var(--fill-color);\n",
              "    }\n",
              "    90% {\n",
              "      border-color: transparent;\n",
              "      border-bottom-color: var(--fill-color);\n",
              "    }\n",
              "  }\n",
              "</style>\n",
              "\n",
              "      <script>\n",
              "        async function quickchart(key) {\n",
              "          const quickchartButtonEl =\n",
              "            document.querySelector('#' + key + ' button');\n",
              "          quickchartButtonEl.disabled = true;  // To prevent multiple clicks.\n",
              "          quickchartButtonEl.classList.add('colab-df-spinner');\n",
              "          try {\n",
              "            const charts = await google.colab.kernel.invokeFunction(\n",
              "                'suggestCharts', [key], {});\n",
              "          } catch (error) {\n",
              "            console.error('Error during call to suggestCharts:', error);\n",
              "          }\n",
              "          quickchartButtonEl.classList.remove('colab-df-spinner');\n",
              "          quickchartButtonEl.classList.add('colab-df-quickchart-complete');\n",
              "        }\n",
              "        (() => {\n",
              "          let quickchartButtonEl =\n",
              "            document.querySelector('#df-d12b0ef8-a3ee-4634-ab5e-c0a33400af85 button');\n",
              "          quickchartButtonEl.style.display =\n",
              "            google.colab.kernel.accessAllowed ? 'block' : 'none';\n",
              "        })();\n",
              "      </script>\n",
              "    </div>\n",
              "    </div>\n",
              "  </div>\n"
            ],
            "application/vnd.google.colaboratory.intrinsic+json": {
              "type": "dataframe",
              "variable_name": "score_df",
              "summary": "{\n  \"name\": \"score_df\",\n  \"rows\": 51361,\n  \"fields\": [\n    {\n      \"column\": \"spid\",\n      \"properties\": {\n        \"dtype\": \"number\",\n        \"std\": 4590423,\n        \"min\": 10000003,\n        \"max\": 20007119,\n        \"num_unique_values\": 10886,\n        \"samples\": [\n          10005712,\n          10010419,\n          10009369\n        ],\n        \"semantic_type\": \"\",\n        \"description\": \"\"\n      }\n    },\n    {\n      \"column\": \"cg1dclkdraw\",\n      \"properties\": {\n        \"dtype\": \"number\",\n        \"std\": 1.1324498919691108,\n        \"min\": 0.0,\n        \"max\": 5.0,\n        \"num_unique_values\": 6,\n        \"samples\": [\n          3.0,\n          4.0,\n          0.0\n        ],\n        \"semantic_type\": \"\",\n        \"description\": \"\"\n      }\n    },\n    {\n      \"column\": \"round\",\n      \"properties\": {\n        \"dtype\": \"number\",\n        \"std\": 2,\n        \"min\": 1,\n        \"max\": 10,\n        \"num_unique_values\": 10,\n        \"samples\": [\n          9,\n          2,\n          6\n        ],\n        \"semantic_type\": \"\",\n        \"description\": \"\"\n      }\n    }\n  ]\n}"
            }
          },
          "metadata": {},
          "execution_count": 16
        }
      ],
      "source": [
        "# Keep desired columns\n",
        "score_df = nhat_label_df[['spid', \"cg1dclkdraw\", 'round']]\n",
        "score_df"
      ]
    },
    {
      "cell_type": "code",
      "execution_count": 17,
      "metadata": {
        "colab": {
          "base_uri": "https://localhost:8080/",
          "height": 716
        },
        "id": "hk5RjXyI_dMZ",
        "outputId": "7152ba44-cb8b-484e-c7c8-7d8e92e624ec"
      },
      "outputs": [
        {
          "output_type": "display_data",
          "data": {
            "text/plain": [
              "<Figure size 640x480 with 1 Axes>"
            ],
            "image/png": "[encoded data removed]"
          },
          "metadata": {}
        },
        {
          "output_type": "execute_result",
          "data": {
            "text/plain": [
              "cg1dclkdraw\n",
              "4.0    19046\n",
              "5.0    12901\n",
              "3.0    11210\n",
              "2.0     5905\n",
              "1.0     1812\n",
              "0.0      487\n",
              "Name: count, dtype: int64"
            ],
            "text/html": [
              "<div>\n",
              "<style scoped>\n",
              "    .dataframe tbody tr th:only-of-type {\n",
              "        vertical-align: middle;\n",
              "    }\n",
              "\n",
              "    .dataframe tbody tr th {\n",
              "        vertical-align: top;\n",
              "    }\n",
              "\n",
              "    .dataframe thead th {\n",
              "        text-align: right;\n",
              "    }\n",
              "</style>\n",
              "<table border=\"1\" class=\"dataframe\">\n",
              "  <thead>\n",
              "    <tr style=\"text-align: right;\">\n",
              "      <th></th>\n",
              "      <th>count</th>\n",
              "    </tr>\n",
              "    <tr>\n",
              "      <th>cg1dclkdraw</th>\n",
              "      <th></th>\n",
              "    </tr>\n",
              "  </thead>\n",
              "  <tbody>\n",
              "    <tr>\n",
              "      <th>4.0</th>\n",
              "      <td>19046</td>\n",
              "    </tr>\n",
              "    <tr>\n",
              "      <th>5.0</th>\n",
              "      <td>12901</td>\n",
              "    </tr>\n",
              "    <tr>\n",
              "      <th>3.0</th>\n",
              "      <td>11210</td>\n",
              "    </tr>\n",
              "    <tr>\n",
              "      <th>2.0</th>\n",
              "      <td>5905</td>\n",
              "    </tr>\n",
              "    <tr>\n",
              "      <th>1.0</th>\n",
              "      <td>1812</td>\n",
              "    </tr>\n",
              "    <tr>\n",
              "      <th>0.0</th>\n",
              "      <td>487</td>\n",
              "    </tr>\n",
              "  </tbody>\n",
              "</table>\n",
              "</div><br><label><b>dtype:</b> int64</label>"
            ]
          },
          "metadata": {},
          "execution_count": 17
        }
      ],
      "source": [
        "plt.hist(score_df['cg1dclkdraw'])\n",
        "plt.show()\n",
        "score_df['cg1dclkdraw'].value_counts()"
      ]
    },
    {
      "cell_type": "code",
      "execution_count": 18,
      "metadata": {
        "colab": {
          "base_uri": "https://localhost:8080/",
          "height": 1000
        },
        "id": "3L4sN6tCAKpc",
        "outputId": "7d1ebca4-7a4a-4bcd-aab9-f1ba195bbf7a"
      },
      "outputs": [
        {
          "output_type": "stream",
          "name": "stdout",
          "text": [
            "length of training set:  46224\n",
            "length of validation set:  2569\n",
            "length of test set:  2568\n",
            "Total length:  51361\n",
            "Train data: \n",
            "\n"
          ]
        },
        {
          "output_type": "display_data",
          "data": {
            "text/plain": [
              "<Figure size 640x480 with 1 Axes>"
            ],
            "image/png": "[encoded data removed]"
          },
          "metadata": {}
        },
        {
          "output_type": "stream",
          "name": "stdout",
          "text": [
            "Val data: \n",
            "\n"
          ]
        },
        {
          "output_type": "display_data",
          "data": {
            "text/plain": [
              "<Figure size 640x480 with 1 Axes>"
            ],
            "image/png": "[encoded data removed]"
          },
          "metadata": {}
        },
        {
          "output_type": "stream",
          "name": "stdout",
          "text": [
            "Test data: \n",
            "\n"
          ]
        },
        {
          "output_type": "display_data",
          "data": {
            "text/plain": [
              "<Figure size 640x480 with 1 Axes>"
            ],
            "image/png": "[encoded data removed]"
          },
          "metadata": {}
        }
      ],
      "source": [
        "# Get training data, val, test split\n",
        "# Return as a dataframe of each before rebalancing the training set.\n",
        "\n",
        "train, val, test = split_.split_data(score_df, 0.1, .5, 'cg1dclkdraw')"
      ]
    },
    {
      "cell_type": "code",
      "execution_count": 21,
      "metadata": {
        "colab": {
          "base_uri": "https://localhost:8080/",
          "height": 504
        },
        "id": "5MQsAwHWA7Ga",
        "outputId": "eabed8cb-c60f-4aad-ee0b-3d514eaebf63"
      },
      "outputs": [
        {
          "output_type": "execute_result",
          "data": {
            "text/plain": [
              "(array([4000.,    0., 4000.,    0., 4000.,    0., 4000.,    0., 4000.,\n",
              "        4000.]),\n",
              " array([0. , 0.5, 1. , 1.5, 2. , 2.5, 3. , 3.5, 4. , 4.5, 5. ]),\n",
              " <BarContainer object of 10 artists>)"
            ]
          },
          "metadata": {},
          "execution_count": 21
        },
        {
          "output_type": "display_data",
          "data": {
            "text/plain": [
              "<Figure size 640x480 with 1 Axes>"
            ],
            "image/png": "[encoded data removed]"
          },
          "metadata": {}
        }
      ],
      "source": [
        "# Balancing the training dataset by upsampling the labels 0 and 1\n",
        "# Downsampling labels 3 ~ 5\n",
        "\n",
        "train_zero_samp = train[train['cg1dclkdraw'] == 0.].sample(n = 4000, replace = True, random_state = 42)\n",
        "train_one_samp = train[train['cg1dclkdraw'] == 1.].sample(n = 4000, replace = True, random_state = 42)\n",
        "train_two_samp = train[train['cg1dclkdraw'] == 2.].sample(n = 4000, random_state = 42)\n",
        "train_thre_samp = train[train['cg1dclkdraw'] == 3.].sample(n = 4000, random_state = 42)\n",
        "train_fr_samp = train[train['cg1dclkdraw'] == 4.].sample(n = 4000, random_state = 42)\n",
        "train_fv_samp = train[train['cg1dclkdraw'] == 5.].sample(n = 4000, random_state = 42)\n",
        "\n",
        "balanced_train = pd.concat([\n",
        "    train_zero_samp, train_one_samp, train_two_samp,\n",
        "    train_thre_samp, train_fr_samp, train_fv_samp\n",
        "])\n",
        "\n",
        "plt.hist(balanced_train.cg1dclkdraw)"
      ]
    },
    {
      "cell_type": "code",
      "execution_count": 22,
      "metadata": {
        "id": "V2KsXdgkBPY5"
      },
      "outputs": [],
      "source": [
        "# Create Training dictionary\n",
        "tr_scor_dict_bal = ld.get_ids(balanced_train, 'cg1dclkdraw')\n",
        "\n",
        "# Writing dictionary to text file for training\n",
        "try:\n",
        "    id_file = open('Data/Dictionaries/score_dicts/tr_scor_dict_bal.txt', 'wt')\n",
        "    id_file.write(str(tr_scor_dict_bal))\n",
        "    id_file.close()\n",
        "\n",
        "except:\n",
        "    print(\"Unable to write to file\")"
      ]
    },
    {
      "cell_type": "code",
      "execution_count": 23,
      "metadata": {
        "id": "6p9ZxXkeBVLO"
      },
      "outputs": [],
      "source": [
        "# Create Validation dictionary\n",
        "val_scor_dict_nobal = ld.get_ids(val, 'cg1dclkdraw')\n",
        "\n",
        "# Writing dictionary to text file for Validation\n",
        "try:\n",
        "    id_file = open('Data/Dictionaries/score_dicts/val_scor_dict_nobal.txt', 'wt')\n",
        "    id_file.write(str(val_scor_dict_nobal))\n",
        "    id_file.close()\n",
        "\n",
        "except:\n",
        "    print(\"Unable to write to file\")"
      ]
    },
    {
      "cell_type": "code",
      "execution_count": 24,
      "metadata": {
        "id": "KRgLk2XcBXyj"
      },
      "outputs": [],
      "source": [
        "# Create testing dictionary\n",
        "tst_scor_dict_nobal = ld.get_ids(test, 'cg1dclkdraw')\n",
        "\n",
        "# Writing dictionary to text file for testing\n",
        "try:\n",
        "    id_file = open('Data/Dictionaries/score_dicts/tst_scor_dict_nobal.txt', 'wt')\n",
        "    id_file.write(str(tst_scor_dict_nobal))\n",
        "    id_file.close()\n",
        "\n",
        "except:\n",
        "    print(\"Unable to write to file\")"
      ]
    },
    {
      "cell_type": "code",
      "execution_count": 25,
      "metadata": {
        "colab": {
          "base_uri": "https://localhost:8080/"
        },
        "id": "85FohtNPBYcz",
        "outputId": "262fdbc5-797f-4bf4-d0d6-ff42057b0bff"
      },
      "outputs": [
        {
          "output_type": "stream",
          "name": "stdout",
          "text": [
            "fin\n"
          ]
        }
      ],
      "source": [
        "print('fin')"
      ]
    }
  ],
  "metadata": {
    "colab": {
      "name": "Model_Datasets.ipynb",
      "provenance": [],
      "include_colab_link": true
    },
    "kernelspec": {
      "display_name": "Python 3",
      "name": "python3"
    },
    "language_info": {
      "name": "python"
    }
  },
  "nbformat": 4,
  "nbformat_minor": 0
}